{
 "cells": [
  {
   "cell_type": "code",
   "execution_count": null,
   "metadata": {},
   "outputs": [],
   "source": []
  },
  {
   "cell_type": "code",
   "execution_count": 1,
   "metadata": {},
   "outputs": [],
   "source": [
    "import cv2\n",
    "import numpy as np\n",
    "import csv\n",
    "import pickle\n",
    "import matplotlib.pyplot as plt\n",
    "\n",
    "features_directory = 'E:\\SECRET\\data'\n",
    "labels_file = 'E:\\SECRET\\data\\driving_log.csv'\n",
    "\n",
    "\n",
    "def preprocess(img):\n",
    "    resized = cv2.resize((cv2.cvtColor(img, cv2.COLOR_RGB2HSV))[:, :, 1], (40, 40))\n",
    "    return resized\n",
    "\n",
    "\n",
    "def data_loading(delta):\n",
    "    logs = []\n",
    "    features = []\n",
    "    labels = []\n",
    "    with open(labels_file, 'rt') as f:\n",
    "        reader = csv.reader(f)\n",
    "        for line in reader:\n",
    "            logs.append(line)\n",
    "        log_labels = logs.pop(0)\n",
    "\n",
    "    for i in range(len(logs)):\n",
    "        for j in range(3):\n",
    "            img_path = logs[i][j]\n",
    "            img_path = features_directory + '\\IMG' + (img_path.split('IMG')[1]).strip()\n",
    "            img = plt.imread(img_path)\n",
    "            features.append(preprocess(img))\n",
    "            if j == 0:\n",
    "                labels.append(float(logs[i][3]))\n",
    "            elif j == 1:\n",
    "                labels.append(float(logs[i][3]) + delta)\n",
    "            else:\n",
    "                labels.append(float(logs[i][3]) - delta)\n",
    "    return features, labels\n",
    "\n",
    "\n",
    "delta = 0.2\n",
    "features, labels = data_loading(delta)\n",
    "\n",
    "features = np.array(features).astype('float32')\n",
    "labels = np.array(labels).astype('float32')\n",
    "\n",
    "with open(\"features_40\", \"wb\") as f:\n",
    "    pickle.dump(features, f, protocol=4)\n",
    "with open(\"labels\", \"wb\") as f:\n",
    "    pickle.dump(labels, f, protocol=4)\n"
   ]
  }
 ],
 "metadata": {
  "kernelspec": {
   "display_name": "Python 3",
   "language": "python",
   "name": "python3"
  },
  "language_info": {
   "codemirror_mode": {
    "name": "ipython",
    "version": 3
   },
   "file_extension": ".py",
   "mimetype": "text/x-python",
   "name": "python",
   "nbconvert_exporter": "python",
   "pygments_lexer": "ipython3",
   "version": "3.7.3"
  }
 },
 "nbformat": 4,
 "nbformat_minor": 2
}
